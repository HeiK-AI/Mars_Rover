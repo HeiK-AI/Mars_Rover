{
  "nbformat": 4,
  "nbformat_minor": 0,
  "metadata": {
    "colab": {
      "provenance": [],
      "authorship_tag": "ABX9TyM6slch5OU5oNo0Xfrllrag",
      "include_colab_link": true
    },
    "kernelspec": {
      "name": "python3",
      "display_name": "Python 3"
    },
    "language_info": {
      "name": "python"
    }
  },
  "cells": [
    {
      "cell_type": "markdown",
      "metadata": {
        "id": "view-in-github",
        "colab_type": "text"
      },
      "source": [
        "<a href=\"https://colab.research.google.com/github/HeiK-AI/Mars_Rover/blob/main/Basic_Python.ipynb\" target=\"_parent\"><img src=\"https://colab.research.google.com/assets/colab-badge.svg\" alt=\"Open In Colab\"/></a>"
      ]
    },
    {
      "cell_type": "markdown",
      "source": [
        "**if instruction**"
      ],
      "metadata": {
        "id": "EwHCiWTyC47G"
      }
    },
    {
      "cell_type": "code",
      "source": [
        "a=5\n",
        "b=6\n",
        "c=a<b #c=True\n",
        "if(a<b):       #result is \"true\" or \"false\" --> boolean\n",
        "  print(\"a<b\") #This is the \"instruction block\"\n",
        "\n",
        "if(c):\n",
        "  print(\"c is true\")"
      ],
      "metadata": {
        "colab": {
          "base_uri": "https://localhost:8080/"
        },
        "id": "x3nHgjmTBSmf",
        "outputId": "08c0b825-a9f4-4305-b7af-647cdb6b92b4"
      },
      "execution_count": 9,
      "outputs": [
        {
          "output_type": "stream",
          "name": "stdout",
          "text": [
            "a<b\n",
            "c is true\n"
          ]
        }
      ]
    },
    {
      "cell_type": "markdown",
      "source": [
        "**if-else instruction**"
      ],
      "metadata": {
        "id": "0QVqnkEMDPrn"
      }
    },
    {
      "cell_type": "code",
      "source": [
        "a=5\n",
        "b=6\n",
        "if(a<b):\n",
        "  print(\"a<b\")\n",
        "else:\n",
        "  print(\"b<a\")"
      ],
      "metadata": {
        "colab": {
          "base_uri": "https://localhost:8080/"
        },
        "id": "Fy6zMzlhDU4F",
        "outputId": "8b5504e9-d7da-41b3-d852-876be22364ce"
      },
      "execution_count": 4,
      "outputs": [
        {
          "output_type": "stream",
          "name": "stdout",
          "text": [
            "a<b\n"
          ]
        }
      ]
    },
    {
      "cell_type": "markdown",
      "source": [
        "**while loop**"
      ],
      "metadata": {
        "id": "RGeoe3VwFB2o"
      }
    },
    {
      "cell_type": "code",
      "source": [
        "i=1\n",
        "while(i<=5):   #loop-condition\n",
        "  print(i)      #loop-body/instruction-part is after the \":\"\n",
        "  i=i+1"
      ],
      "metadata": {
        "colab": {
          "base_uri": "https://localhost:8080/"
        },
        "id": "7St5q2o0FFj9",
        "outputId": "e95c5066-a957-424e-f153-d7b899ef7ca8"
      },
      "execution_count": 11,
      "outputs": [
        {
          "output_type": "stream",
          "name": "stdout",
          "text": [
            "1\n",
            "2\n",
            "3\n",
            "4\n",
            "5\n"
          ]
        }
      ]
    },
    {
      "cell_type": "markdown",
      "source": [
        "**for loop**"
      ],
      "metadata": {
        "id": "adsAu-fLGMkZ"
      }
    },
    {
      "cell_type": "code",
      "source": [
        "i=1\n",
        "for i in range(i,5,1): #i is count-variable\n",
        "  print(i)"
      ],
      "metadata": {
        "colab": {
          "base_uri": "https://localhost:8080/"
        },
        "id": "xZNpAYWWF7_P",
        "outputId": "e876a24f-ec16-4d58-81fc-c316757445fe"
      },
      "execution_count": 15,
      "outputs": [
        {
          "output_type": "stream",
          "name": "stdout",
          "text": [
            "1\n",
            "2\n",
            "3\n",
            "4\n"
          ]
        }
      ]
    },
    {
      "cell_type": "markdown",
      "source": [
        "**array**"
      ],
      "metadata": {
        "id": "pwLz522uHJPa"
      }
    },
    {
      "cell_type": "code",
      "source": [
        "import numpy as np\n",
        "\n",
        "arr=np.array([1,2,3,4,5])\n",
        "\n",
        "print(arr)\n"
      ],
      "metadata": {
        "colab": {
          "base_uri": "https://localhost:8080/"
        },
        "id": "s5lNp4buIfA7",
        "outputId": "50b688fd-79d0-4616-e3b9-769317f3bcb0"
      },
      "execution_count": 21,
      "outputs": [
        {
          "output_type": "stream",
          "name": "stdout",
          "text": [
            "[1 2 3 4 5]\n"
          ]
        }
      ]
    },
    {
      "cell_type": "markdown",
      "source": [
        "**string**"
      ],
      "metadata": {
        "id": "Z_AuLqyjKMWD"
      }
    },
    {
      "cell_type": "code",
      "source": [
        "a=\"Hello World!\"\n",
        "print(a)"
      ],
      "metadata": {
        "colab": {
          "base_uri": "https://localhost:8080/"
        },
        "id": "F7WaBAkTKOGO",
        "outputId": "a586cfc5-abe0-455d-b744-f5f8a6db4e68"
      },
      "execution_count": 22,
      "outputs": [
        {
          "output_type": "stream",
          "name": "stdout",
          "text": [
            "Hello World!\n"
          ]
        }
      ]
    },
    {
      "cell_type": "markdown",
      "source": [
        "**function**"
      ],
      "metadata": {
        "id": "6a_SZ8IjKuso"
      }
    },
    {
      "cell_type": "code",
      "execution_count": null,
      "metadata": {
        "id": "-WN8kcii6YrJ",
        "colab": {
          "base_uri": "https://localhost:8080/"
        },
        "outputId": "16473441-1a6a-4d4b-af33-2aae92d02101"
      },
      "outputs": [
        {
          "output_type": "stream",
          "name": "stdout",
          "text": [
            "Ausgabe von Text aus einer Funktion\n",
            "5\n",
            "3\n"
          ]
        }
      ],
      "source": [
        "def ausgabe(wert1, wert2): #definition of function \n",
        "  print(\"Ausgabe von Text aus einer Funktion\")\n",
        "  print(wert1)\n",
        "  print(wert2)\n",
        "\n",
        "ausgabe(5,3) #call of function\n",
        "#print(\"Programm abgelaufen\")"
      ]
    },
    {
      "cell_type": "code",
      "source": [
        "def max(a, b):\n",
        "  if(a>b):\n",
        "    m=a\n",
        "  else:\n",
        "    m=b\n",
        "  return m\n",
        "\n",
        "m=max(5,2)\n",
        "print(m)\n",
        "print(max(5,2))"
      ],
      "metadata": {
        "colab": {
          "base_uri": "https://localhost:8080/"
        },
        "id": "MF8GsDsurXvq",
        "outputId": "5825289f-af96-4ec9-d55c-3ac4e9f23730"
      },
      "execution_count": 23,
      "outputs": [
        {
          "output_type": "stream",
          "name": "stdout",
          "text": [
            "5\n",
            "5\n"
          ]
        }
      ]
    },
    {
      "cell_type": "code",
      "source": [
        "def max(a,b):\n",
        "  if (a>b):\n",
        "    return a\n",
        "  return b\n",
        "\n",
        "print(max(5,5))"
      ],
      "metadata": {
        "colab": {
          "base_uri": "https://localhost:8080/"
        },
        "id": "cKVyLzq-s4L1",
        "outputId": "c670654f-0e97-4731-f1aa-a2279db1982d"
      },
      "execution_count": 24,
      "outputs": [
        {
          "output_type": "stream",
          "name": "stdout",
          "text": [
            "5\n"
          ]
        }
      ]
    },
    {
      "cell_type": "code",
      "source": [
        "def trennlinie(laenge):\n",
        "  for i in range(0, laenge, 1):\n",
        "    print(\"_\")\n",
        "\n",
        "trennlinie(5)"
      ],
      "metadata": {
        "colab": {
          "base_uri": "https://localhost:8080/"
        },
        "id": "hNv-uGgzFwmG",
        "outputId": "900a53ff-9767-43a0-cc2f-e9de2f96ce19"
      },
      "execution_count": 25,
      "outputs": [
        {
          "output_type": "stream",
          "name": "stdout",
          "text": [
            "_\n",
            "_\n",
            "_\n",
            "_\n",
            "_\n"
          ]
        }
      ]
    },
    {
      "cell_type": "markdown",
      "source": [
        "**Recursive function**"
      ],
      "metadata": {
        "id": "Nn8PcA-oHkwU"
      }
    },
    {
      "cell_type": "code",
      "source": [
        "def fakultaet(n):\n",
        "  if n==0:\n",
        "    return 1\n",
        "  else:\n",
        "    return fakultaet(n-1) * n\n",
        "\n",
        "print(fakultaet(3))\n"
      ],
      "metadata": {
        "colab": {
          "base_uri": "https://localhost:8080/"
        },
        "id": "lw7f3b81Hpga",
        "outputId": "fe15c0ea-b6a4-490a-9f6b-ebaaa48bc175"
      },
      "execution_count": 27,
      "outputs": [
        {
          "output_type": "stream",
          "name": "stdout",
          "text": [
            "6\n"
          ]
        }
      ]
    }
  ]
}